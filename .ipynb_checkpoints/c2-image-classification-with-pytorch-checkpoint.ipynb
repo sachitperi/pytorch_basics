{
 "cells": [
  {
   "cell_type": "markdown",
   "metadata": {},
   "source": [
    "# Image Classification with pytorch"
   ]
  },
  {
   "cell_type": "markdown",
   "metadata": {},
   "source": [
    "## Pytorch and Data Loaders"
   ]
  },
  {
   "cell_type": "markdown",
   "metadata": {},
   "source": [
    "Pytorch has developed standard conventions of interacting with data.  \n",
    "The two main conventions of interacting with data are `datasets` and `data loaders`  \n",
    "**dataset** is a python class that allows us to get the data we'r supplying to the neural network.  \n",
    "**dala loader** is what feeds data from dataset into the network (This can encomepass information about howmany worker processes are feeding data into the network? or howmay images we are passing at once?).  "
   ]
  },
  {
   "cell_type": "markdown",
   "metadata": {},
   "source": [
    "### Dataset\n",
    "Every dataset (images, audio, text, 3D landscape, stock marketinformation etc..) can interact with pytorch if it satisfies this abstract python class\n",
    "```\n",
    "class Dataset(object):\n",
    "    def __getitem__(self, index):\n",
    "        raise NotImplementedError\n",
    "\n",
    "    def __len__(self):\n",
    "        raise NotImplementedError\n",
    "```\n",
    "\n",
    "* A method that retrieves the size of our dataset \n",
    "* A method that can retrieve an item from our dataset "
   ]
  },
  {
   "cell_type": "markdown",
   "metadata": {},
   "source": [
    "### Building and training a Dataset"
   ]
  },
  {
   "cell_type": "markdown",
   "metadata": {},
   "source": [
    "`torchvision` includes a package called `ImageFolder` that does pretymuch everything, providing our images in a structure where each directory is a label"
   ]
  },
  {
   "cell_type": "code",
   "execution_count": 1,
   "metadata": {},
   "outputs": [],
   "source": [
    "from PIL import Image"
   ]
  },
  {
   "cell_type": "code",
   "execution_count": 2,
   "metadata": {},
   "outputs": [],
   "source": [
    "def check_image(path):\n",
    "    try:\n",
    "        im = Image.open(path)\n",
    "        return True\n",
    "    except: \n",
    "        return False"
   ]
  },
  {
   "cell_type": "markdown",
   "metadata": {},
   "source": [
    "`check_image` is a quick little function that is passed to the `is_valid_file` in the `ImageFolder` function and will do a sanity check to make sure PIL can actually open the file. This can be used in lieu of cleaning up of the downloaded dataset"
   ]
  },
  {
   "cell_type": "code",
   "execution_count": 3,
   "metadata": {},
   "outputs": [],
   "source": [
    "import torchvision \n",
    "from torchvision import transforms "
   ]
  },
  {
   "cell_type": "code",
   "execution_count": 4,
   "metadata": {},
   "outputs": [],
   "source": [
    "train_path = \"/Users/sachitanandp/Documents/datasets/image/fish_cat/train\""
   ]
  },
  {
   "cell_type": "code",
   "execution_count": 5,
   "metadata": {},
   "outputs": [],
   "source": [
    "transforms = transforms.Compose([\n",
    "                                transforms.Resize((64, 64)), \n",
    "                                transforms.ToTensor(), \n",
    "                                transforms.Normalize(mean=[0.485, 0.456, 0.406], \n",
    "                                                    std=[0.229, 0.224, 0.225])\n",
    "                                ])"
   ]
  },
  {
   "cell_type": "code",
   "execution_count": 6,
   "metadata": {},
   "outputs": [],
   "source": [
    "train_data = torchvision.datasets.ImageFolder(root=train_path, transform=transforms, is_valid_file=check_image)"
   ]
  },
  {
   "cell_type": "markdown",
   "metadata": {},
   "source": [
    "torchvision also allows you to specify a list of transforms that will be applied to an image before it gets fed into the neural network.  \n",
    "The default transform is to take image data and turn it into a tensor `transforms.ToTensor()`.  \n",
    "Normalising is important bcoz a lot of multiplication will be happening as inputs pass through the layer of the neural network; keeping the incoming values between 0 and 1 prevents the values from getting too large during training phase (known as exploding gradient problem). And that magic incarnation is just the mean and standard deviation of `imagenet` dataset as a whole. You could calculate it for fish and cats separately but these values are decent enough. (If you were working on a completely different dataset, you’d have to calculate that mean and deviation, although many people just use these ImageNet constants and report acceptable results.) \n",
    "\n",
    "The composable transforms allow us to easily do things like image rotation and skewing for data augmentation"
   ]
  },
  {
   "cell_type": "markdown",
   "metadata": {},
   "source": [
    "**Note**\n",
    "*We’re resizing the images to 64 × 64 in this example. I’ve made that arbitrary choice in order to make the computation in our upcoming first network fast. Most existing architectures that you’ll see in Chapter 3 use 224 × 224 or 299 × 299 for their image inputs. In general, the larger the input size, the more data for the network to learn from. The flip side is that you can often fit a smaller batch of images within the GPU’s memory.*"
   ]
  },
  {
   "cell_type": "markdown",
   "metadata": {},
   "source": [
    "### Building Validation and Test Datasets"
   ]
  },
  {
   "cell_type": "markdown",
   "metadata": {},
   "source": [
    "The training data is setup and the same is to be repeated for our validation data.  "
   ]
  },
  {
   "cell_type": "code",
   "execution_count": 7,
   "metadata": {},
   "outputs": [],
   "source": [
    "val_path = \"/Users/sachitanandp/Documents/datasets/image/fish_cat/val\"\n",
    "val_data = torchvision.datasets.ImageFolder(root=val_path, \n",
    "                                           transform=transforms, is_valid_file=check_image)"
   ]
  },
  {
   "cell_type": "code",
   "execution_count": 8,
   "metadata": {},
   "outputs": [],
   "source": [
    "test_path = \"/Users/sachitanandp/Documents/datasets/image/fish_cat/test\"\n",
    "test_data = torchvision.datasets.ImageFolder(root=test_path, \n",
    "                                            transform=transforms, is_valid_file=check_image)"
   ]
  },
  {
   "cell_type": "markdown",
   "metadata": {},
   "source": [
    "* Training set: Used in the training pass to update the model  \n",
    "* Validation set: Used to evaluate how the model is generalizing to the problem domain, rather than fitting to the training data; not used to update the model directly  \n",
    "* Test set: A final dataset that provides a final evaluation of the model’s performance after training is complete"
   ]
  },
  {
   "cell_type": "code",
   "execution_count": 9,
   "metadata": {},
   "outputs": [],
   "source": [
    "from torch.utils import data"
   ]
  },
  {
   "cell_type": "code",
   "execution_count": 10,
   "metadata": {},
   "outputs": [],
   "source": [
    "batch_size=64\n",
    "train_data_loader = data.DataLoader(train_data, batch_size=batch_size)\n",
    "val_data_loader = data.DataLoader(val_data, batch_size=batch_size)\n",
    "test_data_loader = data.DataLoader(test_data, batch_size=batch_size)"
   ]
  },
  {
   "cell_type": "markdown",
   "metadata": {},
   "source": [
    "you can experiment with some of the additional parameters: you can specify how datasets are sampled, whether the entire set is shuffled on each run, and how many worker processes are used to pull data out of the dataset. This can all be found in the [PyTorch documentation](https://pytorch.org/docs/stable/data.html)."
   ]
  },
  {
   "cell_type": "markdown",
   "metadata": {},
   "source": [
    "## Neural Network"
   ]
  },
  {
   "cell_type": "markdown",
   "metadata": {},
   "source": [
    "### Activation Functions\n",
    "Relu  \n",
    "Softmax  "
   ]
  },
  {
   "cell_type": "markdown",
   "metadata": {},
   "source": [
    "### Creating a network"
   ]
  },
  {
   "cell_type": "markdown",
   "metadata": {},
   "source": [
    "Creating a network in pytorch is very pythonic. We inherit from a class called `torch.nn.Network` and fillout the `__init__` and `forward` methods"
   ]
  },
  {
   "cell_type": "code",
   "execution_count": 11,
   "metadata": {},
   "outputs": [],
   "source": [
    "import torch.nn as nn\n",
    "import torch.nn.functional as F"
   ]
  },
  {
   "cell_type": "code",
   "execution_count": 12,
   "metadata": {},
   "outputs": [],
   "source": [
    "class SimpleNet(nn.Module):\n",
    "    def __init__(self):\n",
    "        super(SimpleNet, self).__init__()\n",
    "        self.fc1 = nn.Linear(12288, 84)\n",
    "        self.fc2 = nn.Linear(84, 50)\n",
    "        self.fc3 = nn.Linear(50, 2)\n",
    "    \n",
    "    def forward(self, x):\n",
    "        x = x.view(-1, 12288)\n",
    "        x = F.relu(self.fc1(x))\n",
    "        x = F.relu(self.fc2(x))\n",
    "        x = F.softmax(self.fc3(x))\n",
    "        return x"
   ]
  },
  {
   "cell_type": "code",
   "execution_count": 13,
   "metadata": {},
   "outputs": [],
   "source": [
    "simplenet = SimpleNet()"
   ]
  },
  {
   "cell_type": "markdown",
   "metadata": {},
   "source": [
    "### Loss Functions\n",
    "* CrossEntropyLoss: This loss function also incorporates the `softmax()` function as part of its operation. Hence our implimentation of forward function would change from `F.softmax(self.fc3(x))` to `self.fc3(x)`\n",
    "* MSELoss"
   ]
  },
  {
   "cell_type": "markdown",
   "metadata": {},
   "source": [
    "### Optimizing\n",
    "To perform updates on a nn we use optimizer.  \n",
    "PyTorch ships with SGD and others such as AdaGrad and RMSProp, as well as Adam, the optimizer we will be using for the majority of the book.  \n",
    "\n",
    "One of the key improvements that Adam makes (as does RMSProp and AdaGrad) is that it uses a learning rate per parameter, and adapts that learning rate depending on the rate of change of those parameters. It keeps an exponentially decaying list of gradients and the square of those gradients and uses those to scale the global learning rate that Adam is working with. Adam has been empirically shown to outperform most other optimizers in deep learning networks, but you can swap out Adam for SGD or RMSProp or another optimizer to see if using a different technique yields faster and better training for your particular application.  \n"
   ]
  },
  {
   "cell_type": "code",
   "execution_count": 14,
   "metadata": {},
   "outputs": [],
   "source": [
    "import torch.optim as optim \n",
    "optimizer = optim.Adam(simplenet.parameters(), lr=0.001)"
   ]
  },
  {
   "cell_type": "markdown",
   "metadata": {},
   "source": [
    "## Training"
   ]
  },
  {
   "cell_type": "code",
   "execution_count": 15,
   "metadata": {},
   "outputs": [
    {
     "ename": "NameError",
     "evalue": "name 'epochs' is not defined",
     "output_type": "error",
     "traceback": [
      "\u001b[0;31m---------------------------------------------------------------------------\u001b[0m",
      "\u001b[0;31mNameError\u001b[0m                                 Traceback (most recent call last)",
      "\u001b[0;32m<ipython-input-15-abe0766bd2a3>\u001b[0m in \u001b[0;36m<module>\u001b[0;34m\u001b[0m\n\u001b[0;32m----> 1\u001b[0;31m \u001b[0;32mfor\u001b[0m \u001b[0mepoch\u001b[0m \u001b[0;32min\u001b[0m \u001b[0mrange\u001b[0m\u001b[0;34m(\u001b[0m\u001b[0mepochs\u001b[0m\u001b[0;34m)\u001b[0m\u001b[0;34m:\u001b[0m\u001b[0;34m\u001b[0m\u001b[0;34m\u001b[0m\u001b[0m\n\u001b[0m\u001b[1;32m      2\u001b[0m     \u001b[0;32mfor\u001b[0m \u001b[0mbatch\u001b[0m \u001b[0;32min\u001b[0m \u001b[0mtrain_data_loader\u001b[0m\u001b[0;34m:\u001b[0m\u001b[0;34m\u001b[0m\u001b[0;34m\u001b[0m\u001b[0m\n\u001b[1;32m      3\u001b[0m         \u001b[0moptimizer\u001b[0m\u001b[0;34m.\u001b[0m\u001b[0mzero_grad\u001b[0m\u001b[0;34m(\u001b[0m\u001b[0;34m)\u001b[0m\u001b[0;34m\u001b[0m\u001b[0;34m\u001b[0m\u001b[0m\n\u001b[1;32m      4\u001b[0m         \u001b[0minput\u001b[0m\u001b[0;34m,\u001b[0m \u001b[0mtarget\u001b[0m \u001b[0;34m=\u001b[0m \u001b[0mbatch\u001b[0m\u001b[0;34m\u001b[0m\u001b[0;34m\u001b[0m\u001b[0m\n\u001b[1;32m      5\u001b[0m         \u001b[0moutput\u001b[0m \u001b[0;34m=\u001b[0m \u001b[0mmodel\u001b[0m\u001b[0;34m(\u001b[0m\u001b[0minput\u001b[0m\u001b[0;34m)\u001b[0m\u001b[0;34m\u001b[0m\u001b[0;34m\u001b[0m\u001b[0m\n",
      "\u001b[0;31mNameError\u001b[0m: name 'epochs' is not defined"
     ]
    }
   ],
   "source": [
    "for epoch in range(epochs):\n",
    "    for batch in train_data_loader:\n",
    "        optimizer.zero_grad()\n",
    "        input, target = batch \n",
    "        output = model(input)\n",
    "        loss = loss_fn(output, target)\n",
    "        loss.backward()\n",
    "        optimizer.step()\n",
    "        "
   ]
  },
  {
   "cell_type": "markdown",
   "metadata": {},
   "source": [
    "It turns out that calculated gradients accumlate by default, meaning that if we didnt zero the gradients at the end of the batch's iteration, the next batch would have to deal with this batch's gradients aswell as its own and the batch after that would have to cope up with the previous two.  \n"
   ]
  },
  {
   "cell_type": "markdown",
   "metadata": {},
   "source": [
    "### Making it work on GPU"
   ]
  },
  {
   "cell_type": "code",
   "execution_count": 16,
   "metadata": {},
   "outputs": [],
   "source": [
    "import torch"
   ]
  },
  {
   "cell_type": "code",
   "execution_count": 17,
   "metadata": {},
   "outputs": [
    {
     "data": {
      "text/plain": [
       "SimpleNet(\n",
       "  (fc1): Linear(in_features=12288, out_features=64, bias=True)\n",
       "  (fc2): Linear(in_features=84, out_features=50, bias=True)\n",
       "  (fc3): Linear(in_features=50, out_features=2, bias=True)\n",
       ")"
      ]
     },
     "execution_count": 17,
     "metadata": {},
     "output_type": "execute_result"
    }
   ],
   "source": [
    "if torch.cuda.is_available():\n",
    "    device = torch.device(\"cuda\")\n",
    "else:\n",
    "    device = torch.device(\"cpu\")\n",
    "    \n",
    "simplenet.to(device)"
   ]
  },
  {
   "cell_type": "markdown",
   "metadata": {},
   "source": [
    "**Note:**In earlier versions of PyTorch, you would use the cuda() method to copy data to the GPU instead. If you come across that method when looking at other people’s code, just be aware that it’s doing the same thing as to()!"
   ]
  },
  {
   "cell_type": "markdown",
   "metadata": {},
   "source": [
    "### putting it all together"
   ]
  },
  {
   "cell_type": "code",
   "execution_count": 18,
   "metadata": {},
   "outputs": [],
   "source": [
    "def train(model, optimizer, loss_fn, train_loader, val_loader, epochs=20, device=\"cpu\"):\n",
    "    for epoch in range(epochs):\n",
    "        training_loss = 0.0\n",
    "        valid_loss = 0.0 \n",
    "        model.train()\n",
    "        for batch in train_loader:\n",
    "            optimizer.zero_grad()\n",
    "            inputs, targets = batch \n",
    "            inputs = inputs.to(device)\n",
    "            targets = targets.to(device)\n",
    "            output = model(inputs)\n",
    "            loss = loss_fn(output, target)\n",
    "            loss.backward()\n",
    "            optimizer.step()\n",
    "            training_loss += loss.data.item()\n",
    "        training_loss /= len(train_iterator)\n",
    "        \n",
    "        model.eval()\n",
    "        num_correct = 0 \n",
    "        num_examples = 0 \n",
    "        for batch in val_loader:\n",
    "            inputs, targets = batch \n",
    "            inputs = inputs.to(device)\n",
    "            targets = targets.to(device)\n",
    "            loss = loss_fn(output, target)\n",
    "            valid_loss += loss.data.item()\n",
    "            correct = (torch.eq(torch.max(F.softmax(output), dim=1)[1], target).view(-1))\n",
    "            num_correct += torch.sum(correct).item()\n",
    "            num_examples += correct.shape[0]\n",
    "        valid_loss /= len(valid_iterator)\n",
    "        print(\"Epoch: {}, Training Loss {:.2F}, Validation Loss {:.2F}, accuracy={:.2F}\".format(epoch, training_loss, valid_loss, num_correct/num_examples))"
   ]
  },
  {
   "cell_type": "code",
   "execution_count": 19,
   "metadata": {},
   "outputs": [
    {
     "ename": "RuntimeError",
     "evalue": "size mismatch, m1: [64 x 64], m2: [84 x 50] at /Users/distiller/project/conda/conda-bld/pytorch_1573049287641/work/aten/src/TH/generic/THTensorMath.cpp:197",
     "output_type": "error",
     "traceback": [
      "\u001b[0;31m---------------------------------------------------------------------------\u001b[0m",
      "\u001b[0;31mRuntimeError\u001b[0m                              Traceback (most recent call last)",
      "\u001b[0;32m<ipython-input-19-6bf2d5251283>\u001b[0m in \u001b[0;36m<module>\u001b[0;34m\u001b[0m\n\u001b[0;32m----> 1\u001b[0;31m \u001b[0mtrain\u001b[0m\u001b[0;34m(\u001b[0m\u001b[0msimplenet\u001b[0m\u001b[0;34m,\u001b[0m \u001b[0moptimizer\u001b[0m\u001b[0;34m,\u001b[0m \u001b[0mtorch\u001b[0m\u001b[0;34m.\u001b[0m\u001b[0mnn\u001b[0m\u001b[0;34m.\u001b[0m\u001b[0mCrossEntropyLoss\u001b[0m\u001b[0;34m(\u001b[0m\u001b[0;34m)\u001b[0m\u001b[0;34m,\u001b[0m \u001b[0mtrain_data_loader\u001b[0m\u001b[0;34m,\u001b[0m \u001b[0mval_data_loader\u001b[0m\u001b[0;34m,\u001b[0m \u001b[0mdevice\u001b[0m\u001b[0;34m=\u001b[0m\u001b[0mdevice\u001b[0m\u001b[0;34m)\u001b[0m\u001b[0;34m\u001b[0m\u001b[0;34m\u001b[0m\u001b[0m\n\u001b[0m",
      "\u001b[0;32m<ipython-input-18-cd193cc53751>\u001b[0m in \u001b[0;36mtrain\u001b[0;34m(model, optimizer, loss_fn, train_loader, val_loader, epochs, device)\u001b[0m\n\u001b[1;32m      9\u001b[0m             \u001b[0minputs\u001b[0m \u001b[0;34m=\u001b[0m \u001b[0minputs\u001b[0m\u001b[0;34m.\u001b[0m\u001b[0mto\u001b[0m\u001b[0;34m(\u001b[0m\u001b[0mdevice\u001b[0m\u001b[0;34m)\u001b[0m\u001b[0;34m\u001b[0m\u001b[0;34m\u001b[0m\u001b[0m\n\u001b[1;32m     10\u001b[0m             \u001b[0mtargets\u001b[0m \u001b[0;34m=\u001b[0m \u001b[0mtargets\u001b[0m\u001b[0;34m.\u001b[0m\u001b[0mto\u001b[0m\u001b[0;34m(\u001b[0m\u001b[0mdevice\u001b[0m\u001b[0;34m)\u001b[0m\u001b[0;34m\u001b[0m\u001b[0;34m\u001b[0m\u001b[0m\n\u001b[0;32m---> 11\u001b[0;31m             \u001b[0moutput\u001b[0m \u001b[0;34m=\u001b[0m \u001b[0mmodel\u001b[0m\u001b[0;34m(\u001b[0m\u001b[0minputs\u001b[0m\u001b[0;34m)\u001b[0m\u001b[0;34m\u001b[0m\u001b[0;34m\u001b[0m\u001b[0m\n\u001b[0m\u001b[1;32m     12\u001b[0m             \u001b[0mloss\u001b[0m \u001b[0;34m=\u001b[0m \u001b[0mloss_fn\u001b[0m\u001b[0;34m(\u001b[0m\u001b[0moutput\u001b[0m\u001b[0;34m,\u001b[0m \u001b[0mtarget\u001b[0m\u001b[0;34m)\u001b[0m\u001b[0;34m\u001b[0m\u001b[0;34m\u001b[0m\u001b[0m\n\u001b[1;32m     13\u001b[0m             \u001b[0mloss\u001b[0m\u001b[0;34m.\u001b[0m\u001b[0mbackward\u001b[0m\u001b[0;34m(\u001b[0m\u001b[0;34m)\u001b[0m\u001b[0;34m\u001b[0m\u001b[0;34m\u001b[0m\u001b[0m\n",
      "\u001b[0;32m~/opt/anaconda3/lib/python3.7/site-packages/torch/nn/modules/module.py\u001b[0m in \u001b[0;36m__call__\u001b[0;34m(self, *input, **kwargs)\u001b[0m\n\u001b[1;32m    539\u001b[0m             \u001b[0mresult\u001b[0m \u001b[0;34m=\u001b[0m \u001b[0mself\u001b[0m\u001b[0;34m.\u001b[0m\u001b[0m_slow_forward\u001b[0m\u001b[0;34m(\u001b[0m\u001b[0;34m*\u001b[0m\u001b[0minput\u001b[0m\u001b[0;34m,\u001b[0m \u001b[0;34m**\u001b[0m\u001b[0mkwargs\u001b[0m\u001b[0;34m)\u001b[0m\u001b[0;34m\u001b[0m\u001b[0;34m\u001b[0m\u001b[0m\n\u001b[1;32m    540\u001b[0m         \u001b[0;32melse\u001b[0m\u001b[0;34m:\u001b[0m\u001b[0;34m\u001b[0m\u001b[0;34m\u001b[0m\u001b[0m\n\u001b[0;32m--> 541\u001b[0;31m             \u001b[0mresult\u001b[0m \u001b[0;34m=\u001b[0m \u001b[0mself\u001b[0m\u001b[0;34m.\u001b[0m\u001b[0mforward\u001b[0m\u001b[0;34m(\u001b[0m\u001b[0;34m*\u001b[0m\u001b[0minput\u001b[0m\u001b[0;34m,\u001b[0m \u001b[0;34m**\u001b[0m\u001b[0mkwargs\u001b[0m\u001b[0;34m)\u001b[0m\u001b[0;34m\u001b[0m\u001b[0;34m\u001b[0m\u001b[0m\n\u001b[0m\u001b[1;32m    542\u001b[0m         \u001b[0;32mfor\u001b[0m \u001b[0mhook\u001b[0m \u001b[0;32min\u001b[0m \u001b[0mself\u001b[0m\u001b[0;34m.\u001b[0m\u001b[0m_forward_hooks\u001b[0m\u001b[0;34m.\u001b[0m\u001b[0mvalues\u001b[0m\u001b[0;34m(\u001b[0m\u001b[0;34m)\u001b[0m\u001b[0;34m:\u001b[0m\u001b[0;34m\u001b[0m\u001b[0;34m\u001b[0m\u001b[0m\n\u001b[1;32m    543\u001b[0m             \u001b[0mhook_result\u001b[0m \u001b[0;34m=\u001b[0m \u001b[0mhook\u001b[0m\u001b[0;34m(\u001b[0m\u001b[0mself\u001b[0m\u001b[0;34m,\u001b[0m \u001b[0minput\u001b[0m\u001b[0;34m,\u001b[0m \u001b[0mresult\u001b[0m\u001b[0;34m)\u001b[0m\u001b[0;34m\u001b[0m\u001b[0;34m\u001b[0m\u001b[0m\n",
      "\u001b[0;32m<ipython-input-12-30d9281525da>\u001b[0m in \u001b[0;36mforward\u001b[0;34m(self, x)\u001b[0m\n\u001b[1;32m      9\u001b[0m         \u001b[0mx\u001b[0m \u001b[0;34m=\u001b[0m \u001b[0mx\u001b[0m\u001b[0;34m.\u001b[0m\u001b[0mview\u001b[0m\u001b[0;34m(\u001b[0m\u001b[0;34m-\u001b[0m\u001b[0;36m1\u001b[0m\u001b[0;34m,\u001b[0m \u001b[0;36m12288\u001b[0m\u001b[0;34m)\u001b[0m\u001b[0;34m\u001b[0m\u001b[0;34m\u001b[0m\u001b[0m\n\u001b[1;32m     10\u001b[0m         \u001b[0mx\u001b[0m \u001b[0;34m=\u001b[0m \u001b[0mF\u001b[0m\u001b[0;34m.\u001b[0m\u001b[0mrelu\u001b[0m\u001b[0;34m(\u001b[0m\u001b[0mself\u001b[0m\u001b[0;34m.\u001b[0m\u001b[0mfc1\u001b[0m\u001b[0;34m(\u001b[0m\u001b[0mx\u001b[0m\u001b[0;34m)\u001b[0m\u001b[0;34m)\u001b[0m\u001b[0;34m\u001b[0m\u001b[0;34m\u001b[0m\u001b[0m\n\u001b[0;32m---> 11\u001b[0;31m         \u001b[0mx\u001b[0m \u001b[0;34m=\u001b[0m \u001b[0mF\u001b[0m\u001b[0;34m.\u001b[0m\u001b[0mrelu\u001b[0m\u001b[0;34m(\u001b[0m\u001b[0mself\u001b[0m\u001b[0;34m.\u001b[0m\u001b[0mfc2\u001b[0m\u001b[0;34m(\u001b[0m\u001b[0mx\u001b[0m\u001b[0;34m)\u001b[0m\u001b[0;34m)\u001b[0m\u001b[0;34m\u001b[0m\u001b[0;34m\u001b[0m\u001b[0m\n\u001b[0m\u001b[1;32m     12\u001b[0m         \u001b[0mx\u001b[0m \u001b[0;34m=\u001b[0m \u001b[0mF\u001b[0m\u001b[0;34m.\u001b[0m\u001b[0msoftmax\u001b[0m\u001b[0;34m(\u001b[0m\u001b[0mself\u001b[0m\u001b[0;34m.\u001b[0m\u001b[0mfc3\u001b[0m\u001b[0;34m(\u001b[0m\u001b[0mx\u001b[0m\u001b[0;34m)\u001b[0m\u001b[0;34m)\u001b[0m\u001b[0;34m\u001b[0m\u001b[0;34m\u001b[0m\u001b[0m\n\u001b[1;32m     13\u001b[0m         \u001b[0;32mreturn\u001b[0m \u001b[0mx\u001b[0m\u001b[0;34m\u001b[0m\u001b[0;34m\u001b[0m\u001b[0m\n",
      "\u001b[0;32m~/opt/anaconda3/lib/python3.7/site-packages/torch/nn/modules/module.py\u001b[0m in \u001b[0;36m__call__\u001b[0;34m(self, *input, **kwargs)\u001b[0m\n\u001b[1;32m    539\u001b[0m             \u001b[0mresult\u001b[0m \u001b[0;34m=\u001b[0m \u001b[0mself\u001b[0m\u001b[0;34m.\u001b[0m\u001b[0m_slow_forward\u001b[0m\u001b[0;34m(\u001b[0m\u001b[0;34m*\u001b[0m\u001b[0minput\u001b[0m\u001b[0;34m,\u001b[0m \u001b[0;34m**\u001b[0m\u001b[0mkwargs\u001b[0m\u001b[0;34m)\u001b[0m\u001b[0;34m\u001b[0m\u001b[0;34m\u001b[0m\u001b[0m\n\u001b[1;32m    540\u001b[0m         \u001b[0;32melse\u001b[0m\u001b[0;34m:\u001b[0m\u001b[0;34m\u001b[0m\u001b[0;34m\u001b[0m\u001b[0m\n\u001b[0;32m--> 541\u001b[0;31m             \u001b[0mresult\u001b[0m \u001b[0;34m=\u001b[0m \u001b[0mself\u001b[0m\u001b[0;34m.\u001b[0m\u001b[0mforward\u001b[0m\u001b[0;34m(\u001b[0m\u001b[0;34m*\u001b[0m\u001b[0minput\u001b[0m\u001b[0;34m,\u001b[0m \u001b[0;34m**\u001b[0m\u001b[0mkwargs\u001b[0m\u001b[0;34m)\u001b[0m\u001b[0;34m\u001b[0m\u001b[0;34m\u001b[0m\u001b[0m\n\u001b[0m\u001b[1;32m    542\u001b[0m         \u001b[0;32mfor\u001b[0m \u001b[0mhook\u001b[0m \u001b[0;32min\u001b[0m \u001b[0mself\u001b[0m\u001b[0;34m.\u001b[0m\u001b[0m_forward_hooks\u001b[0m\u001b[0;34m.\u001b[0m\u001b[0mvalues\u001b[0m\u001b[0;34m(\u001b[0m\u001b[0;34m)\u001b[0m\u001b[0;34m:\u001b[0m\u001b[0;34m\u001b[0m\u001b[0;34m\u001b[0m\u001b[0m\n\u001b[1;32m    543\u001b[0m             \u001b[0mhook_result\u001b[0m \u001b[0;34m=\u001b[0m \u001b[0mhook\u001b[0m\u001b[0;34m(\u001b[0m\u001b[0mself\u001b[0m\u001b[0;34m,\u001b[0m \u001b[0minput\u001b[0m\u001b[0;34m,\u001b[0m \u001b[0mresult\u001b[0m\u001b[0;34m)\u001b[0m\u001b[0;34m\u001b[0m\u001b[0;34m\u001b[0m\u001b[0m\n",
      "\u001b[0;32m~/opt/anaconda3/lib/python3.7/site-packages/torch/nn/modules/linear.py\u001b[0m in \u001b[0;36mforward\u001b[0;34m(self, input)\u001b[0m\n\u001b[1;32m     85\u001b[0m \u001b[0;34m\u001b[0m\u001b[0m\n\u001b[1;32m     86\u001b[0m     \u001b[0;32mdef\u001b[0m \u001b[0mforward\u001b[0m\u001b[0;34m(\u001b[0m\u001b[0mself\u001b[0m\u001b[0;34m,\u001b[0m \u001b[0minput\u001b[0m\u001b[0;34m)\u001b[0m\u001b[0;34m:\u001b[0m\u001b[0;34m\u001b[0m\u001b[0;34m\u001b[0m\u001b[0m\n\u001b[0;32m---> 87\u001b[0;31m         \u001b[0;32mreturn\u001b[0m \u001b[0mF\u001b[0m\u001b[0;34m.\u001b[0m\u001b[0mlinear\u001b[0m\u001b[0;34m(\u001b[0m\u001b[0minput\u001b[0m\u001b[0;34m,\u001b[0m \u001b[0mself\u001b[0m\u001b[0;34m.\u001b[0m\u001b[0mweight\u001b[0m\u001b[0;34m,\u001b[0m \u001b[0mself\u001b[0m\u001b[0;34m.\u001b[0m\u001b[0mbias\u001b[0m\u001b[0;34m)\u001b[0m\u001b[0;34m\u001b[0m\u001b[0;34m\u001b[0m\u001b[0m\n\u001b[0m\u001b[1;32m     88\u001b[0m \u001b[0;34m\u001b[0m\u001b[0m\n\u001b[1;32m     89\u001b[0m     \u001b[0;32mdef\u001b[0m \u001b[0mextra_repr\u001b[0m\u001b[0;34m(\u001b[0m\u001b[0mself\u001b[0m\u001b[0;34m)\u001b[0m\u001b[0;34m:\u001b[0m\u001b[0;34m\u001b[0m\u001b[0;34m\u001b[0m\u001b[0m\n",
      "\u001b[0;32m~/opt/anaconda3/lib/python3.7/site-packages/torch/nn/functional.py\u001b[0m in \u001b[0;36mlinear\u001b[0;34m(input, weight, bias)\u001b[0m\n\u001b[1;32m   1368\u001b[0m     \u001b[0;32mif\u001b[0m \u001b[0minput\u001b[0m\u001b[0;34m.\u001b[0m\u001b[0mdim\u001b[0m\u001b[0;34m(\u001b[0m\u001b[0;34m)\u001b[0m \u001b[0;34m==\u001b[0m \u001b[0;36m2\u001b[0m \u001b[0;32mand\u001b[0m \u001b[0mbias\u001b[0m \u001b[0;32mis\u001b[0m \u001b[0;32mnot\u001b[0m \u001b[0;32mNone\u001b[0m\u001b[0;34m:\u001b[0m\u001b[0;34m\u001b[0m\u001b[0;34m\u001b[0m\u001b[0m\n\u001b[1;32m   1369\u001b[0m         \u001b[0;31m# fused op is marginally faster\u001b[0m\u001b[0;34m\u001b[0m\u001b[0;34m\u001b[0m\u001b[0;34m\u001b[0m\u001b[0m\n\u001b[0;32m-> 1370\u001b[0;31m         \u001b[0mret\u001b[0m \u001b[0;34m=\u001b[0m \u001b[0mtorch\u001b[0m\u001b[0;34m.\u001b[0m\u001b[0maddmm\u001b[0m\u001b[0;34m(\u001b[0m\u001b[0mbias\u001b[0m\u001b[0;34m,\u001b[0m \u001b[0minput\u001b[0m\u001b[0;34m,\u001b[0m \u001b[0mweight\u001b[0m\u001b[0;34m.\u001b[0m\u001b[0mt\u001b[0m\u001b[0;34m(\u001b[0m\u001b[0;34m)\u001b[0m\u001b[0;34m)\u001b[0m\u001b[0;34m\u001b[0m\u001b[0;34m\u001b[0m\u001b[0m\n\u001b[0m\u001b[1;32m   1371\u001b[0m     \u001b[0;32melse\u001b[0m\u001b[0;34m:\u001b[0m\u001b[0;34m\u001b[0m\u001b[0;34m\u001b[0m\u001b[0m\n\u001b[1;32m   1372\u001b[0m         \u001b[0moutput\u001b[0m \u001b[0;34m=\u001b[0m \u001b[0minput\u001b[0m\u001b[0;34m.\u001b[0m\u001b[0mmatmul\u001b[0m\u001b[0;34m(\u001b[0m\u001b[0mweight\u001b[0m\u001b[0;34m.\u001b[0m\u001b[0mt\u001b[0m\u001b[0;34m(\u001b[0m\u001b[0;34m)\u001b[0m\u001b[0;34m)\u001b[0m\u001b[0;34m\u001b[0m\u001b[0;34m\u001b[0m\u001b[0m\n",
      "\u001b[0;31mRuntimeError\u001b[0m: size mismatch, m1: [64 x 64], m2: [84 x 50] at /Users/distiller/project/conda/conda-bld/pytorch_1573049287641/work/aten/src/TH/generic/THTensorMath.cpp:197"
     ]
    }
   ],
   "source": [
    "train(simplenet, optimizer, torch.nn.CrossEntropyLoss(), train_data_loader, val_data_loader, device=device)"
   ]
  },
  {
   "cell_type": "code",
   "execution_count": null,
   "metadata": {},
   "outputs": [],
   "source": []
  },
  {
   "cell_type": "code",
   "execution_count": 33,
   "metadata": {},
   "outputs": [],
   "source": [
    "import os\n",
    "from imutils import paths\n",
    "from PIL import Image"
   ]
  },
  {
   "cell_type": "code",
   "execution_count": 34,
   "metadata": {},
   "outputs": [],
   "source": [
    "pth = \"/Users/sachitanandp/Documents/datasets/image/fish_cat/\""
   ]
  },
  {
   "cell_type": "code",
   "execution_count": 35,
   "metadata": {},
   "outputs": [],
   "source": [
    "def cnvt_images(path):\n",
    "    image_paths = list(paths.list_images(path))\n",
    "    for image in image_paths:\n",
    "        im = Image.open(image).convert('RGB')\n",
    "        im.save(image)"
   ]
  },
  {
   "cell_type": "code",
   "execution_count": 36,
   "metadata": {},
   "outputs": [],
   "source": [
    "cnvt_images(pth)"
   ]
  },
  {
   "cell_type": "code",
   "execution_count": 30,
   "metadata": {},
   "outputs": [],
   "source": [
    "def remove_corupted_images(path):\n",
    "    image_paths = list(paths.list_images(path))\n",
    "    for image in image_paths:\n",
    "        try:\n",
    "            img = Image.open(image)\n",
    "            img.verify()\n",
    "        except (IOError, SyntaxError) as e:\n",
    "            print('Bad file:', image)\n",
    "            os.remove(image)"
   ]
  },
  {
   "cell_type": "code",
   "execution_count": 31,
   "metadata": {},
   "outputs": [
    {
     "name": "stdout",
     "output_type": "stream",
     "text": [
      "Bad file: /Users/sachitanandp/Documents/datasets/image/fish_cat/.train/cat/1010205192_6ce1a37dc5.jpg\n",
      "Bad file: /Users/sachitanandp/Documents/datasets/image/fish_cat/.train/cat/Curious_Cat_Siberian_Tiger.jpg\n",
      "Bad file: /Users/sachitanandp/Documents/datasets/image/fish_cat/.train/cat/5733476_9266d6999b.jpg\n",
      "Bad file: /Users/sachitanandp/Documents/datasets/image/fish_cat/.train/cat/2102976081_61c8614be8.jpg\n",
      "Bad file: /Users/sachitanandp/Documents/datasets/image/fish_cat/.train/cat/297949892_3532468343.jpg\n",
      "Bad file: /Users/sachitanandp/Documents/datasets/image/fish_cat/.train/cat/tiger_op_450x600.jpg\n",
      "Bad file: /Users/sachitanandp/Documents/datasets/image/fish_cat/.train/cat/2179694251_ef26b307a6.jpg\n",
      "Bad file: /Users/sachitanandp/Documents/datasets/image/fish_cat/.train/cat/100739452_5be2c11557.jpg\n",
      "Bad file: /Users/sachitanandp/Documents/datasets/image/fish_cat/.train/cat/529556475_2f8a2f8b23.jpg\n",
      "Bad file: /Users/sachitanandp/Documents/datasets/image/fish_cat/.train/cat/1171972141_6975842eae.jpg\n",
      "Bad file: /Users/sachitanandp/Documents/datasets/image/fish_cat/.train/cat/tiger3.JPG\n",
      "Bad file: /Users/sachitanandp/Documents/datasets/image/fish_cat/.train/cat/4193130_a058cdb81f.jpg\n",
      "Bad file: /Users/sachitanandp/Documents/datasets/image/fish_cat/.train/cat/tiger-aroara-017.jpg\n",
      "Bad file: /Users/sachitanandp/Documents/datasets/image/fish_cat/.train/cat/112942284_3e525c90fd.jpg\n",
      "Bad file: /Users/sachitanandp/Documents/datasets/image/fish_cat/.train/cat/290162359_4d481ca788.jpg\n",
      "Bad file: /Users/sachitanandp/Documents/datasets/image/fish_cat/.train/cat/498439925_56105ec829.jpg\n",
      "Bad file: /Users/sachitanandp/Documents/datasets/image/fish_cat/.train/cat/75298993_347ab0387c.jpg\n",
      "Bad file: /Users/sachitanandp/Documents/datasets/image/fish_cat/.train/cat/126757815_2b56006ae3.jpg\n",
      "Bad file: /Users/sachitanandp/Documents/datasets/image/fish_cat/.train/cat/2198594925_0cdcb4b0bc.jpg\n",
      "Bad file: /Users/sachitanandp/Documents/datasets/image/fish_cat/.train/cat/416994740_6ada308baa.jpg\n",
      "Bad file: /Users/sachitanandp/Documents/datasets/image/fish_cat/.train/cat/136562493_d7e2b71d6f.jpg\n",
      "Bad file: /Users/sachitanandp/Documents/datasets/image/fish_cat/.train/cat/tiger-rubbing-against-a-tree-stock-photo-a66573.jpg\n",
      "Bad file: /Users/sachitanandp/Documents/datasets/image/fish_cat/.train/cat/356158507_ae17d2b83d.jpg\n",
      "Bad file: /Users/sachitanandp/Documents/datasets/image/fish_cat/.train/cat/476956230_b3900bd668.jpg\n",
      "Bad file: /Users/sachitanandp/Documents/datasets/image/fish_cat/.train/cat/5733484_a458450d64.jpg\n",
      "Bad file: /Users/sachitanandp/Documents/datasets/image/fish_cat/.train/cat/709949156_5e4ac3f499.jpg\n",
      "Bad file: /Users/sachitanandp/Documents/datasets/image/fish_cat/.train/cat/345925901_d5865b2585.jpg\n",
      "Bad file: /Users/sachitanandp/Documents/datasets/image/fish_cat/.train/cat/643693002_6262c7c770.jpg\n",
      "Bad file: /Users/sachitanandp/Documents/datasets/image/fish_cat/.train/cat/223217216_c9812a32b7.jpg\n",
      "Bad file: /Users/sachitanandp/Documents/datasets/image/fish_cat/.train/cat/386738725_f05b43aa50.jpg\n",
      "Bad file: /Users/sachitanandp/Documents/datasets/image/fish_cat/.train/cat/928732762_eddd8d29af.jpg\n",
      "Bad file: /Users/sachitanandp/Documents/datasets/image/fish_cat/.train/cat/1004525_cba96ba3c3.jpg\n",
      "Bad file: /Users/sachitanandp/Documents/datasets/image/fish_cat/.train/cat/426029501_9ad83db536.jpg\n",
      "Bad file: /Users/sachitanandp/Documents/datasets/image/fish_cat/.train/cat/464579958_acedd32444.jpg\n",
      "Bad file: /Users/sachitanandp/Documents/datasets/image/fish_cat/.train/cat/113565692_f3d86014e2.jpg\n",
      "Bad file: /Users/sachitanandp/Documents/datasets/image/fish_cat/.train/cat/383039924_320a6cffcc.jpg\n",
      "Bad file: /Users/sachitanandp/Documents/datasets/image/fish_cat/.train/cat/1516104019_b530c585e4.jpg\n",
      "Bad file: /Users/sachitanandp/Documents/datasets/image/fish_cat/.train/cat/522288612_1c9d01387b.jpg\n",
      "Bad file: /Users/sachitanandp/Documents/datasets/image/fish_cat/.train/cat/littletigercat-12-20-07-small.jpg\n",
      "Bad file: /Users/sachitanandp/Documents/datasets/image/fish_cat/.train/cat/847517807_0216d39d30.jpg\n",
      "Bad file: /Users/sachitanandp/Documents/datasets/image/fish_cat/.train/cat/1011749126_44a195db4c.jpg\n",
      "Bad file: /Users/sachitanandp/Documents/datasets/image/fish_cat/.train/cat/320793638_f167ca1fc5.jpg\n",
      "Bad file: /Users/sachitanandp/Documents/datasets/image/fish_cat/.train/cat/522289072_13b4f92d39.jpg\n",
      "Bad file: /Users/sachitanandp/Documents/datasets/image/fish_cat/.train/cat/1541882092_7df1c00498.jpg\n",
      "Bad file: /Users/sachitanandp/Documents/datasets/image/fish_cat/.train/cat/334132664_83e5b5af38.jpg\n",
      "Bad file: /Users/sachitanandp/Documents/datasets/image/fish_cat/.train/cat/1471994811_164d5a3f11.jpg\n",
      "Bad file: /Users/sachitanandp/Documents/datasets/image/fish_cat/.train/cat/465514643_ed172b3d7f.jpg\n",
      "Bad file: /Users/sachitanandp/Documents/datasets/image/fish_cat/.train/cat/861774153_b4d1189962.jpg\n",
      "Bad file: /Users/sachitanandp/Documents/datasets/image/fish_cat/.train/cat/297949888_ff727f56d0.jpg\n",
      "Bad file: /Users/sachitanandp/Documents/datasets/image/fish_cat/.train/cat/223070551_857dc3264f.jpg\n",
      "Bad file: /Users/sachitanandp/Documents/datasets/image/fish_cat/.train/cat/10298902.jpg\n",
      "Bad file: /Users/sachitanandp/Documents/datasets/image/fish_cat/.train/cat/359658792_76c6011a76.jpg\n",
      "Bad file: /Users/sachitanandp/Documents/datasets/image/fish_cat/.train/cat/1004527_527c0c32ce.jpg\n",
      "Bad file: /Users/sachitanandp/Documents/datasets/image/fish_cat/.train/cat/2103753994_715cd26e9c.jpg\n",
      "Bad file: /Users/sachitanandp/Documents/datasets/image/fish_cat/.train/cat/1011749668_fc48f28767.jpg\n",
      "Bad file: /Users/sachitanandp/Documents/datasets/image/fish_cat/.train/cat/reviewFurnitureTigerBed.jpg\n",
      "Bad file: /Users/sachitanandp/Documents/datasets/image/fish_cat/.train/cat/070321-toygers-photos_big.jpg\n",
      "Bad file: /Users/sachitanandp/Documents/datasets/image/fish_cat/.train/cat/298022772_916ace8b22.jpg\n",
      "Bad file: /Users/sachitanandp/Documents/datasets/image/fish_cat/.train/cat/1004528_a111209743.jpg\n",
      "Bad file: /Users/sachitanandp/Documents/datasets/image/fish_cat/.train/cat/c_ronald_ginger_cat_01.jpg\n",
      "Bad file: /Users/sachitanandp/Documents/datasets/image/fish_cat/.train/fish/IMG_4037273.jpg\n",
      "Bad file: /Users/sachitanandp/Documents/datasets/image/fish_cat/.train/fish/248254722_719a163665.jpg\n",
      "Bad file: /Users/sachitanandp/Documents/datasets/image/fish_cat/.train/fish/917843339_6485bec882.jpg\n",
      "Bad file: /Users/sachitanandp/Documents/datasets/image/fish_cat/.train/fish/3006747829_8658331ecd.jpg\n",
      "Bad file: /Users/sachitanandp/Documents/datasets/image/fish_cat/.train/fish/1183434487_0de54007df.jpg\n",
      "Bad file: /Users/sachitanandp/Documents/datasets/image/fish_cat/.train/fish/PicCoho6_small.jpg\n",
      "Bad file: /Users/sachitanandp/Documents/datasets/image/fish_cat/.train/fish/2897344310_0cb98bf481.jpg\n",
      "Bad file: /Users/sachitanandp/Documents/datasets/image/fish_cat/.train/fish/1010685601_0b99c42459.jpg\n",
      "Bad file: /Users/sachitanandp/Documents/datasets/image/fish_cat/.train/fish/2077711662_c9da691b0a.jpg\n",
      "Bad file: /Users/sachitanandp/Documents/datasets/image/fish_cat/.train/fish/2897344494_fa0a244b55.jpg\n",
      "Bad file: /Users/sachitanandp/Documents/datasets/image/fish_cat/.train/fish/king1-sm.jpg\n",
      "Bad file: /Users/sachitanandp/Documents/datasets/image/fish_cat/.train/fish/chinook_salmon.jpg\n",
      "Bad file: /Users/sachitanandp/Documents/datasets/image/fish_cat/.train/fish/2776496087_1973f8dced.jpg\n",
      "Bad file: /Users/sachitanandp/Documents/datasets/image/fish_cat/.train/fish/Silver1.jpg\n",
      "Bad file: /Users/sachitanandp/Documents/datasets/image/fish_cat/.train/fish/1455910975_07315bf34e.jpg\n",
      "Bad file: /Users/sachitanandp/Documents/datasets/image/fish_cat/.train/fish/840200833_be72b99848.jpg\n",
      "Bad file: /Users/sachitanandp/Documents/datasets/image/fish_cat/.train/fish/chum.jpg\n",
      "Bad file: /Users/sachitanandp/Documents/datasets/image/fish_cat/.train/fish/1879139277_71ea573139.jpg\n",
      "Bad file: /Users/sachitanandp/Documents/datasets/image/fish_cat/.train/fish/727088757_639eb2ccdb.jpg\n",
      "Bad file: /Users/sachitanandp/Documents/datasets/image/fish_cat/.train/fish/2662.jpg\n",
      "Bad file: /Users/sachitanandp/Documents/datasets/image/fish_cat/.train/fish/Picture16.jpg\n",
      "Bad file: /Users/sachitanandp/Documents/datasets/image/fish_cat/.train/fish/2076921635_8146b3766d.jpg\n",
      "Bad file: /Users/sachitanandp/Documents/datasets/image/fish_cat/.train/fish/1348098964_4b8c2450e9.jpg\n",
      "Bad file: /Users/sachitanandp/Documents/datasets/image/fish_cat/.train/fish/2886597440_5b3a936f6d.jpg\n",
      "Bad file: /Users/sachitanandp/Documents/datasets/image/fish_cat/.train/fish/1155345869_3f36e2785b.jpg\n",
      "Bad file: /Users/sachitanandp/Documents/datasets/image/fish_cat/.train/fish/1084292263_542314f2ed.jpg\n",
      "Bad file: /Users/sachitanandp/Documents/datasets/image/fish_cat/.train/fish/2776498771_20527f258b.jpg\n",
      "Bad file: /Users/sachitanandp/Documents/datasets/image/fish_cat/.train/fish/1348044264_3e0ed6611e.jpg\n",
      "Bad file: /Users/sachitanandp/Documents/datasets/image/fish_cat/.train/fish/516600404_a300ca8625.jpg\n",
      "Bad file: /Users/sachitanandp/Documents/datasets/image/fish_cat/.train/fish/233477721_0126cc0331.jpg\n",
      "Bad file: /Users/sachitanandp/Documents/datasets/image/fish_cat/.train/fish/1087447360_c6037a47f5.jpg\n",
      "Bad file: /Users/sachitanandp/Documents/datasets/image/fish_cat/.train/fish/f43aa33cdff2bbd5e0173ab7a9460f04.jpg\n",
      "Bad file: /Users/sachitanandp/Documents/datasets/image/fish_cat/.train/fish/50021271_c261cd4746.jpg\n",
      "Bad file: /Users/sachitanandp/Documents/datasets/image/fish_cat/.train/fish/silver_salmon_002.jpg\n",
      "Bad file: /Users/sachitanandp/Documents/datasets/image/fish_cat/.train/fish/1287462891_f1a3e27b50.jpg\n",
      "Bad file: /Users/sachitanandp/Documents/datasets/image/fish_cat/.train/fish/2776494507_7e4cd3a67e.jpg\n",
      "Bad file: /Users/sachitanandp/Documents/datasets/image/fish_cat/.train/fish/2806316749_a85a2e1d0f.jpg\n",
      "Bad file: /Users/sachitanandp/Documents/datasets/image/fish_cat/.train/fish/1242460238_57b66f8072.jpg\n",
      "Bad file: /Users/sachitanandp/Documents/datasets/image/fish_cat/.train/fish/817922169_08b4a5f740.jpg\n",
      "Bad file: /Users/sachitanandp/Documents/datasets/image/fish_cat/.train/fish/233611459_cc673f6203.jpg\n",
      "Bad file: /Users/sachitanandp/Documents/datasets/image/fish_cat/.train/fish/2777353898_99db69973e.jpg\n",
      "Bad file: /Users/sachitanandp/Documents/datasets/image/fish_cat/.train/fish/bobmoore.jpg\n",
      "Bad file: /Users/sachitanandp/Documents/datasets/image/fish_cat/.train/fish/747119762_615603a9a0.jpg\n",
      "Bad file: /Users/sachitanandp/Documents/datasets/image/fish_cat/.train/fish/2021607548_e0835d3552.jpg\n",
      "Bad file: /Users/sachitanandp/Documents/datasets/image/fish_cat/.train/fish/VInhCoho.jpg\n",
      "Bad file: /Users/sachitanandp/Documents/datasets/image/fish_cat/.train/fish/256085367_30d8e98fa4.jpg\n",
      "Bad file: /Users/sachitanandp/Documents/datasets/image/fish_cat/.train/fish/1956494336_5591fa37da.jpg\n",
      "Bad file: /Users/sachitanandp/Documents/datasets/image/fish_cat/.train/fish/silver_salmon_father_son.jpg\n",
      "Bad file: /Users/sachitanandp/Documents/datasets/image/fish_cat/.train/fish/154165958_2428872100.jpg\n",
      "Bad file: /Users/sachitanandp/Documents/datasets/image/fish_cat/.train/fish/2297032796_b5eb52b860.jpg\n",
      "Bad file: /Users/sachitanandp/Documents/datasets/image/fish_cat/.train/fish/2021603270_2e53566a23.jpg\n",
      "Bad file: /Users/sachitanandp/Documents/datasets/image/fish_cat/.train/fish/2777354896_176a518b8c.jpg\n",
      "Bad file: /Users/sachitanandp/Documents/datasets/image/fish_cat/.train/fish/dennis.jpg\n",
      "Bad file: /Users/sachitanandp/Documents/datasets/image/fish_cat/.train/fish/521168219_ad61ac2925.jpg\n",
      "Bad file: /Users/sachitanandp/Documents/datasets/image/fish_cat/.train/fish/dad_king.jpg\n",
      "Bad file: /Users/sachitanandp/Documents/datasets/image/fish_cat/.train/fish/2791133165_5df1d47be5.jpg\n",
      "Bad file: /Users/sachitanandp/Documents/datasets/image/fish_cat/.train/fish/2734977928_8d16b48c0a.jpg\n",
      "Bad file: /Users/sachitanandp/Documents/datasets/image/fish_cat/.train/fish/CohoSalmon_ByErnest%20Keeley.jpg\n",
      "Bad file: /Users/sachitanandp/Documents/datasets/image/fish_cat/.train/fish/747122396_3de7f87df3.jpg\n",
      "Bad file: /Users/sachitanandp/Documents/datasets/image/fish_cat/.train/fish/Ultralight_salmon_fishing_small.jpg\n",
      "Bad file: /Users/sachitanandp/Documents/datasets/image/fish_cat/.train/fish/34-8image.jpg\n",
      "Bad file: /Users/sachitanandp/Documents/datasets/image/fish_cat/.train/fish/1140675688_2498ebdcc7.jpg\n",
      "Bad file: /Users/sachitanandp/Documents/datasets/image/fish_cat/.train/fish/260564886_6c66708343.jpg\n",
      "Bad file: /Users/sachitanandp/Documents/datasets/image/fish_cat/.train/fish/2294965469_d200313929.jpg\n",
      "Bad file: /Users/sachitanandp/Documents/datasets/image/fish_cat/.train/fish/1278651880_44fe8f9b70.jpg\n",
      "Bad file: /Users/sachitanandp/Documents/datasets/image/fish_cat/.train/fish/coho_salmon_sm.jpg\n",
      "Bad file: /Users/sachitanandp/Documents/datasets/image/fish_cat/.train/fish/2667317126_10ee1f1a17.jpg\n",
      "Bad file: /Users/sachitanandp/Documents/datasets/image/fish_cat/.train/fish/2970698030_1021311f52.jpg\n",
      "Bad file: /Users/sachitanandp/Documents/datasets/image/fish_cat/.train/fish/20040808JacobSalmon.jpg\n",
      "Bad file: /Users/sachitanandp/Documents/datasets/image/fish_cat/.train/fish/04%20silver%20salmon%20small.jpg\n",
      "Bad file: /Users/sachitanandp/Documents/datasets/image/fish_cat/.train/fish/1834276056_4e86bacfe3.jpg\n",
      "Bad file: /Users/sachitanandp/Documents/datasets/image/fish_cat/.train/fish/3007583030_bd590c07e7.jpg\n",
      "Bad file: /Users/sachitanandp/Documents/datasets/image/fish_cat/.train/fish/2483223708_dd90747f10.jpg\n",
      "Bad file: /Users/sachitanandp/Documents/datasets/image/fish_cat/.train/fish/2306403424_76da5bb38a.jpg\n",
      "Bad file: /Users/sachitanandp/Documents/datasets/image/fish_cat/.train/fish/1833444691_dc3d1017db.jpg\n",
      "Bad file: /Users/sachitanandp/Documents/datasets/image/fish_cat/.train/fish/281045869_67c3f5355e.jpg\n",
      "Bad file: /Users/sachitanandp/Documents/datasets/image/fish_cat/.train/fish/coho.jpg\n",
      "Bad file: /Users/sachitanandp/Documents/datasets/image/fish_cat/.train/fish/2807167664_7f0c5891f6.jpg\n",
      "Bad file: /Users/sachitanandp/Documents/datasets/image/fish_cat/.train/fish/2791982836_fefc141d11.jpg\n",
      "Bad file: /Users/sachitanandp/Documents/datasets/image/fish_cat/.train/fish/443.guest%20chrome%20silver%20w%20fly.jpg\n",
      "Bad file: /Users/sachitanandp/Documents/datasets/image/fish_cat/.train/fish/2824589595_07ee2443a3.jpg\n",
      "Bad file: /Users/sachitanandp/Documents/datasets/image/fish_cat/.train/fish/2791982160_14b08a4e3c.jpg\n",
      "Bad file: /Users/sachitanandp/Documents/datasets/image/fish_cat/.train/fish/image.jpg\n",
      "Bad file: /Users/sachitanandp/Documents/datasets/image/fish_cat/.train/fish/1879253211_7ea061692c.jpg\n",
      "Bad file: /Users/sachitanandp/Documents/datasets/image/fish_cat/.train/fish/1388069914_0ecc61170d.jpg\n",
      "Bad file: /Users/sachitanandp/Documents/datasets/image/fish_cat/.train/fish/2806314103_c6a27c6a53.jpg\n",
      "Bad file: /Users/sachitanandp/Documents/datasets/image/fish_cat/.train/fish/PicCoho14_small.jpg\n",
      "Bad file: /Users/sachitanandp/Documents/datasets/image/fish_cat/.train/fish/1348034256_cc50f5b446.jpg\n",
      "Bad file: /Users/sachitanandp/Documents/datasets/image/fish_cat/.train/fish/2791131243_7b257bc08b.jpg\n",
      "Bad file: /Users/sachitanandp/Documents/datasets/image/fish_cat/.train/fish/trophycoho.jpg\n",
      "Bad file: /Users/sachitanandp/Documents/datasets/image/fish_cat/.train/fish/480_Seegraves_nice_silver.jpg\n"
     ]
    }
   ],
   "source": [
    "remove_corupted_images(pth)"
   ]
  },
  {
   "cell_type": "code",
   "execution_count": null,
   "metadata": {},
   "outputs": [],
   "source": [
    "for d in os.listdir(\"./beginners-pytorch-deep-learning/chapter2/val/\"):\n",
    "    for i in os.listdir(os.path.join(\"./beginners-pytorch-deep-learning/chapter2/val/\", d)):\n",
    "        try:\n",
    "            img = Image.open(os.path.join(\"./beginners-pytorch-deep-learning/chapter2/val/\", d, i))\n",
    "            img.verify()\n",
    "        except (IOError, SyntaxError) as e:\n",
    "            print('Bad file:', os.path.join(\"./beginners-pytorch-deep-learning/chapter2/val/\", d, i))\n",
    "            os.remove(os.path.join(\"./beginners-pytorch-deep-learning/chapter2/val/\", d, i))"
   ]
  }
 ],
 "metadata": {
  "kernelspec": {
   "display_name": "Python 3",
   "language": "python",
   "name": "python3"
  },
  "language_info": {
   "codemirror_mode": {
    "name": "ipython",
    "version": 3
   },
   "file_extension": ".py",
   "mimetype": "text/x-python",
   "name": "python",
   "nbconvert_exporter": "python",
   "pygments_lexer": "ipython3",
   "version": "3.7.4"
  }
 },
 "nbformat": 4,
 "nbformat_minor": 4
}
